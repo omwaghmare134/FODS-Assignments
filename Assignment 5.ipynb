{
 "cells": [
  {
   "cell_type": "code",
   "execution_count": 1,
   "id": "6644b4bb-5fdb-4dce-869e-db3b9574545c",
   "metadata": {},
   "outputs": [],
   "source": [
    "import pandas as pd"
   ]
  },
  {
   "cell_type": "code",
   "execution_count": 3,
   "id": "e2c6679c-9425-4b60-9581-f9e9d0210052",
   "metadata": {},
   "outputs": [],
   "source": [
    "data_path = \"C:/Air_Quality.csv\"\n",
    "data = pd.read_csv(data_path)"
   ]
  },
  {
   "cell_type": "code",
   "execution_count": 5,
   "id": "9f1f1bc5-f314-4be4-964e-8527a9d50c70",
   "metadata": {},
   "outputs": [],
   "source": [
    "data_head = data.head()"
   ]
  },
  {
   "cell_type": "code",
   "execution_count": 7,
   "id": "ef66b418-0a5a-4c60-9749-8d52774f8e42",
   "metadata": {},
   "outputs": [
    {
     "name": "stdout",
     "output_type": "stream",
     "text": [
      "<class 'pandas.core.frame.DataFrame'>\n",
      "RangeIndex: 1836 entries, 0 to 1835\n",
      "Data columns (total 10 columns):\n",
      " #   Column         Non-Null Count  Dtype  \n",
      "---  ------         --------------  -----  \n",
      " 0   id             1836 non-null   int64  \n",
      " 1   country        1836 non-null   object \n",
      " 2   state          1836 non-null   object \n",
      " 3   city           1836 non-null   object \n",
      " 4   station        1836 non-null   object \n",
      " 5   pollutant_id   1836 non-null   object \n",
      " 6   last_update    1836 non-null   object \n",
      " 7   pollutant_min  1738 non-null   float64\n",
      " 8   pollutant_max  1738 non-null   float64\n",
      " 9   pollutant_avg  1738 non-null   float64\n",
      "dtypes: float64(3), int64(1), object(6)\n",
      "memory usage: 143.6+ KB\n"
     ]
    }
   ],
   "source": [
    "data_info = data.info()"
   ]
  },
  {
   "cell_type": "code",
   "execution_count": 9,
   "id": "607e7d77-5946-4d54-856e-86fcd6b1ac98",
   "metadata": {},
   "outputs": [],
   "source": [
    "missing_values = data.isnull().sum()"
   ]
  },
  {
   "cell_type": "code",
   "execution_count": 17,
   "id": "a2ca682a-fbc8-4a41-83bc-1dfbfb65b43f",
   "metadata": {},
   "outputs": [],
   "source": [
    "data['pollutant_min'] = data['pollutant_min'].fillna(data['pollutant_min'].mean())\n",
    "data['pollutant_max'] = data['pollutant_max'].fillna(data['pollutant_max'].mean())\n",
    "data['pollutant_avg'] = data['pollutant_avg'].fillna(data['pollutant_avg'].mean())\n"
   ]
  },
  {
   "cell_type": "code",
   "execution_count": 21,
   "id": "68da9082-d656-4f13-9045-4df740933fb1",
   "metadata": {},
   "outputs": [],
   "source": [
    "data['last_update'] = pd.to_datetime(data['last_update'], errors='coerce', dayfirst=True)\n"
   ]
  },
  {
   "cell_type": "code",
   "execution_count": 23,
   "id": "6824eb4a-0378-4e53-8c91-ea2b50281c6c",
   "metadata": {},
   "outputs": [],
   "source": [
    "data = data.drop_duplicates()"
   ]
  },
  {
   "cell_type": "code",
   "execution_count": 25,
   "id": "d742da5e-517c-4acb-a93c-40d378bc0217",
   "metadata": {},
   "outputs": [],
   "source": [
    "data.columns = data.columns.str.lower().str.replace(\" \", \"_\")"
   ]
  },
  {
   "cell_type": "code",
   "execution_count": 27,
   "id": "d56e7fe1-be42-4a64-b459-e15162fd7ed8",
   "metadata": {},
   "outputs": [],
   "source": [
    "data['year'] = data['last_update'].dt.year\n",
    "data['month'] = data['last_update'].dt.month"
   ]
  },
  {
   "cell_type": "code",
   "execution_count": 29,
   "id": "dcd3c751-c0a5-497c-be38-4bb69a6259a7",
   "metadata": {},
   "outputs": [],
   "source": [
    "pollutant_columns = ['pollutant_min', 'pollutant_max', 'pollutant_avg']\n",
    "data[pollutant_columns] = (data[pollutant_columns] - data[pollutant_columns].min()) / (\n",
    "    data[pollutant_columns].max() - data[pollutant_columns].min()\n",
    ")"
   ]
  },
  {
   "cell_type": "code",
   "execution_count": 31,
   "id": "8da5bf73-988c-412f-bec7-6a5cb673d8ae",
   "metadata": {},
   "outputs": [],
   "source": [
    "cleaned_summary = {\n",
    "    \"Missing Values After Cleaning\": data.isnull().sum(),\n",
    "    \"Total Duplicates Removed\": data.duplicated().sum(),\n",
    "}"
   ]
  },
  {
   "cell_type": "code",
   "execution_count": 33,
   "id": "68828de6-8b9d-4613-9aab-6b36f6442468",
   "metadata": {},
   "outputs": [],
   "source": [
    "data_head = data.head()"
   ]
  },
  {
   "cell_type": "code",
   "execution_count": 35,
   "id": "7c6da178-156d-4fef-862c-f868e7e1e3f0",
   "metadata": {},
   "outputs": [
    {
     "data": {
      "text/plain": [
       "({'Missing Values After Cleaning': id               0\n",
       "  country          0\n",
       "  state            0\n",
       "  city             0\n",
       "  station          0\n",
       "  pollutant_id     0\n",
       "  last_update      0\n",
       "  pollutant_min    0\n",
       "  pollutant_max    0\n",
       "  pollutant_avg    0\n",
       "  year             0\n",
       "  month            0\n",
       "  dtype: int64,\n",
       "  'Total Duplicates Removed': 0},\n",
       "    id country           state       city                         station  \\\n",
       " 0   1   India  Andhra_Pradesh  Amaravati  Secretariat, Amaravati - APPCB   \n",
       " 1   2   India  Andhra_Pradesh  Amaravati  Secretariat, Amaravati - APPCB   \n",
       " 2   3   India  Andhra_Pradesh  Amaravati  Secretariat, Amaravati - APPCB   \n",
       " 3   4   India  Andhra_Pradesh  Amaravati  Secretariat, Amaravati - APPCB   \n",
       " 4   5   India  Andhra_Pradesh  Amaravati  Secretariat, Amaravati - APPCB   \n",
       " \n",
       "   pollutant_id         last_update  pollutant_min  pollutant_max  \\\n",
       " 0        PM2.5 2021-10-21 01:00:00       0.314815       0.216433   \n",
       " 1         PM10 2021-10-21 01:00:00       0.375000       0.274549   \n",
       " 2          NO2 2021-10-21 01:00:00       0.041667       0.082164   \n",
       " 3          NH3 2021-10-21 01:00:00       0.013889       0.008016   \n",
       " 4          SO2 2021-10-21 01:00:00       0.069444       0.082164   \n",
       " \n",
       "    pollutant_avg  year  month  \n",
       " 0       0.271565  2021     10  \n",
       " 1       0.332268  2021     10  \n",
       " 2       0.057508  2021     10  \n",
       " 3       0.009585  2021     10  \n",
       " 4       0.083067  2021     10  )"
      ]
     },
     "execution_count": 35,
     "metadata": {},
     "output_type": "execute_result"
    }
   ],
   "source": [
    "cleaned_summary, data_head"
   ]
  },
  {
   "cell_type": "code",
   "execution_count": null,
   "id": "86cf4112-3d21-4ffe-864f-05c7ad4ec0c0",
   "metadata": {},
   "outputs": [],
   "source": []
  }
 ],
 "metadata": {
  "kernelspec": {
   "display_name": "Python 3 (ipykernel)",
   "language": "python",
   "name": "python3"
  },
  "language_info": {
   "codemirror_mode": {
    "name": "ipython",
    "version": 3
   },
   "file_extension": ".py",
   "mimetype": "text/x-python",
   "name": "python",
   "nbconvert_exporter": "python",
   "pygments_lexer": "ipython3",
   "version": "3.12.4"
  }
 },
 "nbformat": 4,
 "nbformat_minor": 5
}
